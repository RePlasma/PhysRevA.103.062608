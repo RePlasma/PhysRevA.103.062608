{
 "cells": [
  {
   "cell_type": "markdown",
   "metadata": {},
   "source": [
    "# Simulating non-native cubic interactions on noisy quantum machines\n",
    "\n",
    "Link to paper: https://journals.aps.org/pra/abstract/10.1103/PhysRevA.103.062608\n",
    "\n",
    "Authors of paper: Yuan Shi, Alessandro R. Castelli, Xian Wu, Ilon Joseph, Vasily Geyko, Frank R. Graziani, Stephen B. Libby, Jeffrey B. Parker, Yaniv J. Rosen, Luis A. Martinez, and Jonathan L. DuBois\n",
    "\n",
    "Author of notebook: [Óscar Amaro](https://github.com/OsAmaro)\n",
    "\n",
    "TODO:\n",
    "- plot dataWPD data points\n",
    "- use qutip https://qutip.org/docs/4.0.2/index.html to reproduce fig2\n",
    "- Instead of time-independent operator, $H_c$ depends on $c$ in an non-trivial way (see eq 12). Also, $\\epsilon(t)$ has to be implemented."
   ]
  },
  {
   "cell_type": "code",
   "execution_count": null,
   "metadata": {},
   "outputs": [],
   "source": [
    "pip install qutip"
   ]
  },
  {
   "cell_type": "code",
   "execution_count": 8,
   "metadata": {},
   "outputs": [],
   "source": [
    "import qutip as qt\n",
    "import numpy as np\n",
    "import matplotlib.pyplot as plt"
   ]
  },
  {
   "cell_type": "code",
   "execution_count": 79,
   "metadata": {},
   "outputs": [],
   "source": [
    "# Define Hamiltonian\n",
    "H0 = qt.Qobj( np.diag([0, 25.758, 50.099, 72.848, 93.828]) )  # Define the bare Hamiltonian\n",
    "Hc = qt.Qobj( np.roll(np.diag([1., -1.372,-1.618,1.781,0]),1) )  # Define the control Hamiltonian as a function of time\n",
    "\n",
    "# Define Lindblad operators\n",
    "L1 = qt.Qobj( np.roll(np.diag([0.004,0.006,0.007,0.009,0.]),1) ) # Decay operator\n",
    "L2 = qt.Qobj( np.diag([0, 0.005, 0.014, 0.045, 0.000]) ) # Dephasing operator\n",
    "\n",
    "# Initial state\n",
    "rho0 = qt.ket2dm(qt.basis(5, 0)) #np.diag([1.0,0,0,0,0])  # Define the initial state of your system\n",
    "#rho0"
   ]
  },
  {
   "cell_type": "code",
   "execution_count": 90,
   "metadata": {},
   "outputs": [],
   "source": [
    "# Time points\n",
    "times = np.linspace(0, 100, 100)  # Adjust as needed\n",
    "\n",
    "# Solve the Lindblad master equation\n",
    "result = qt.mesolve([H0, Hc], rho0, times, [L1, L2])\n",
    "\n",
    "# result.states will contain the solution at each time point"
   ]
  },
  {
   "cell_type": "code",
   "execution_count": 91,
   "metadata": {},
   "outputs": [],
   "source": [
    "occupations0 = []\n",
    "occupations1 = []\n",
    "occupations2 = []\n",
    "for state in result.states:\n",
    "    if state.type == 'ket':  # Convert to density matrix if state is a ket vector\n",
    "        state = qt.ket2dm(state)\n",
    "    occupation = np.real(state.diag())  # Extract diagonal elements and take the real part\n",
    "    occupations0.append(occupation[0])\n",
    "    occupations1.append(occupation[1])\n",
    "    occupations2.append(occupation[2])"
   ]
  },
  {
   "cell_type": "code",
   "execution_count": 92,
   "metadata": {},
   "outputs": [
    {
     "data": {
      "text/plain": [
       "[<matplotlib.lines.Line2D at 0x7f7f2964ba50>]"
      ]
     },
     "execution_count": 92,
     "metadata": {},
     "output_type": "execute_result"
    },
    {
     "data": {
      "image/png": "[encoded data removed]",
      "text/plain": [
       "<Figure size 432x288 with 1 Axes>"
      ]
     },
     "metadata": {
      "needs_background": "light"
     },
     "output_type": "display_data"
    }
   ],
   "source": [
    "plt.plot(occupations0)\n",
    "plt.plot(occupations1)\n",
    "plt.plot(occupations2)"
   ]
  }
 ],
 "metadata": {
  "kernelspec": {
   "display_name": "Python 3",
   "language": "python",
   "name": "python3"
  },
  "language_info": {
   "codemirror_mode": {
    "name": "ipython",
    "version": 3
   },
   "file_extension": ".py",
   "mimetype": "text/x-python",
   "name": "python",
   "nbconvert_exporter": "python",
   "pygments_lexer": "ipython3",
   "version": "3.7.4"
  }
 },
 "nbformat": 4,
 "nbformat_minor": 4
}
